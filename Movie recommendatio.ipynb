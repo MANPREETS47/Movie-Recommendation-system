{
 "cells": [
  {
   "cell_type": "code",
   "execution_count": 67,
   "id": "9bc7d067-e517-4cd4-bd05-5332c6549cc5",
   "metadata": {},
   "outputs": [],
   "source": [
    "import pandas as pd\n",
    "import numpy as np\n",
    "import tensorflow as tf\n",
    "import keras\n",
    "from tensorflow.keras.preprocessing.text import Tokenizer\n",
    "from tensorflow.keras.preprocessing.sequence import pad_sequences\n",
    "from sklearn.preprocessing import LabelEncoder\n",
    "from sklearn.model_selection import train_test_split\n",
    "from tensorflow.keras.models import Sequential\n",
    "from tensorflow.keras.layers import Embedding, Flatten, Dense\n",
    "from tensorflow.keras import Model"
   ]
  },
  {
   "cell_type": "code",
   "execution_count": 68,
   "id": "3a96e8ae-565e-4fe3-a6cd-1ebd3f6f46cf",
   "metadata": {},
   "outputs": [
    {
     "name": "stdout",
     "output_type": "stream",
     "text": [
      "                                 Title Available Globally? Release Date  \\\n",
      "0            The Night Agent: Season 1                 Yes   2023-03-23   \n",
      "1            Ginny & Georgia: Season 2                 Yes   2023-01-05   \n",
      "2   The Glory: Season 1 // 더 글로리: 시즌 1                 Yes   2022-12-30   \n",
      "3                  Wednesday: Season 1                 Yes   2022-11-23   \n",
      "4  Queen Charlotte: A Bridgerton Story                 Yes   2023-05-04   \n",
      "\n",
      "   Hours Viewed Language Indicator Content Type  \n",
      "0  81,21,00,000            English         Show  \n",
      "1  66,51,00,000            English         Show  \n",
      "2  62,28,00,000             Korean         Show  \n",
      "3  50,77,00,000            English         Show  \n",
      "4  50,30,00,000            English        Movie  \n"
     ]
    }
   ],
   "source": [
    "data = pd.read_csv(\"netflix_content.csv\")\n",
    "print(data.head())"
   ]
  },
  {
   "cell_type": "code",
   "execution_count": 69,
   "id": "2916cf83-fb1e-46ff-a1e6-d847d8663530",
   "metadata": {},
   "outputs": [],
   "source": [
    "data[\"Hours Viewed\"] = data['Hours Viewed'].str.replace(',','', regex=False).astype('int64')"
   ]
  },
  {
   "cell_type": "code",
   "execution_count": 70,
   "id": "4bfe12e9-7303-44cf-b09b-2319df12b415",
   "metadata": {},
   "outputs": [
    {
     "name": "stdout",
     "output_type": "stream",
     "text": [
      "                                 Title Available Globally? Release Date  \\\n",
      "0            The Night Agent: Season 1                 Yes   2023-03-23   \n",
      "1            Ginny & Georgia: Season 2                 Yes   2023-01-05   \n",
      "2   The Glory: Season 1 // 더 글로리: 시즌 1                 Yes   2022-12-30   \n",
      "3                  Wednesday: Season 1                 Yes   2022-11-23   \n",
      "4  Queen Charlotte: A Bridgerton Story                 Yes   2023-05-04   \n",
      "\n",
      "   Hours Viewed Language Indicator Content Type  \n",
      "0     812100000            English         Show  \n",
      "1     665100000            English         Show  \n",
      "2     622800000             Korean         Show  \n",
      "3     507700000            English         Show  \n",
      "4     503000000            English        Movie  \n"
     ]
    }
   ],
   "source": [
    "print(data.head())"
   ]
  },
  {
   "cell_type": "code",
   "execution_count": 71,
   "id": "7f422af9-d18c-4d05-b815-f4beeb10b658",
   "metadata": {},
   "outputs": [
    {
     "data": {
      "text/plain": [
       "Title                      0\n",
       "Available Globally?        0\n",
       "Release Date           16646\n",
       "Hours Viewed               0\n",
       "Language Indicator         0\n",
       "Content Type               0\n",
       "dtype: int64"
      ]
     },
     "execution_count": 71,
     "metadata": {},
     "output_type": "execute_result"
    }
   ],
   "source": [
    "data.isnull().sum()"
   ]
  },
  {
   "cell_type": "code",
   "execution_count": 72,
   "id": "331821e1-0826-48df-888d-a007c7824317",
   "metadata": {},
   "outputs": [
    {
     "data": {
      "text/plain": [
       "np.int64(467)"
      ]
     },
     "execution_count": 72,
     "metadata": {},
     "output_type": "execute_result"
    }
   ],
   "source": [
    "data.duplicated().sum()"
   ]
  },
  {
   "cell_type": "code",
   "execution_count": 73,
   "id": "a736faf8-2654-4cf6-8e39-4732988cf798",
   "metadata": {},
   "outputs": [],
   "source": [
    "data.drop_duplicates(subset=['Title'], inplace=True)"
   ]
  },
  {
   "cell_type": "code",
   "execution_count": 74,
   "id": "a8f4d02b-ee9b-4b8a-a2ca-bb54384e3bb2",
   "metadata": {},
   "outputs": [],
   "source": [
    "data['Content_ID'] = data.reset_index().index.astype('int32')"
   ]
  },
  {
   "cell_type": "code",
   "execution_count": 75,
   "id": "084f9a9e-a178-4b71-97d9-ff8258bbe9ed",
   "metadata": {},
   "outputs": [
    {
     "name": "stdout",
     "output_type": "stream",
     "text": [
      "                                 Title Available Globally? Release Date  \\\n",
      "0            The Night Agent: Season 1                 Yes   2023-03-23   \n",
      "1            Ginny & Georgia: Season 2                 Yes   2023-01-05   \n",
      "2   The Glory: Season 1 // 더 글로리: 시즌 1                 Yes   2022-12-30   \n",
      "3                  Wednesday: Season 1                 Yes   2022-11-23   \n",
      "4  Queen Charlotte: A Bridgerton Story                 Yes   2023-05-04   \n",
      "\n",
      "   Hours Viewed Language Indicator Content Type  Content_ID  \n",
      "0     812100000            English         Show           0  \n",
      "1     665100000            English         Show           1  \n",
      "2     622800000             Korean         Show           2  \n",
      "3     507700000            English         Show           3  \n",
      "4     503000000            English        Movie           4  \n"
     ]
    }
   ],
   "source": [
    "print(data.head())"
   ]
  },
  {
   "cell_type": "code",
   "execution_count": 76,
   "id": "f5d71cb6-ee7e-4801-ae7a-2eafcdabfec2",
   "metadata": {},
   "outputs": [
    {
     "data": {
      "text/html": [
       "<div>\n",
       "<style scoped>\n",
       "    .dataframe tbody tr th:only-of-type {\n",
       "        vertical-align: middle;\n",
       "    }\n",
       "\n",
       "    .dataframe tbody tr th {\n",
       "        vertical-align: top;\n",
       "    }\n",
       "\n",
       "    .dataframe thead th {\n",
       "        text-align: right;\n",
       "    }\n",
       "</style>\n",
       "<table border=\"1\" class=\"dataframe\">\n",
       "  <thead>\n",
       "    <tr style=\"text-align: right;\">\n",
       "      <th></th>\n",
       "      <th>Title</th>\n",
       "      <th>Available Globally?</th>\n",
       "      <th>Release Date</th>\n",
       "      <th>Hours Viewed</th>\n",
       "      <th>Language Indicator</th>\n",
       "      <th>Content Type</th>\n",
       "      <th>Content_ID</th>\n",
       "    </tr>\n",
       "  </thead>\n",
       "  <tbody>\n",
       "    <tr>\n",
       "      <th>0</th>\n",
       "      <td>The Night Agent: Season 1</td>\n",
       "      <td>Yes</td>\n",
       "      <td>2023-03-23</td>\n",
       "      <td>812100000</td>\n",
       "      <td>English</td>\n",
       "      <td>Show</td>\n",
       "      <td>0</td>\n",
       "    </tr>\n",
       "    <tr>\n",
       "      <th>1</th>\n",
       "      <td>Ginny &amp; Georgia: Season 2</td>\n",
       "      <td>Yes</td>\n",
       "      <td>2023-01-05</td>\n",
       "      <td>665100000</td>\n",
       "      <td>English</td>\n",
       "      <td>Show</td>\n",
       "      <td>1</td>\n",
       "    </tr>\n",
       "    <tr>\n",
       "      <th>2</th>\n",
       "      <td>The Glory: Season 1 // 더 글로리: 시즌 1</td>\n",
       "      <td>Yes</td>\n",
       "      <td>2022-12-30</td>\n",
       "      <td>622800000</td>\n",
       "      <td>Korean</td>\n",
       "      <td>Show</td>\n",
       "      <td>2</td>\n",
       "    </tr>\n",
       "    <tr>\n",
       "      <th>3</th>\n",
       "      <td>Wednesday: Season 1</td>\n",
       "      <td>Yes</td>\n",
       "      <td>2022-11-23</td>\n",
       "      <td>507700000</td>\n",
       "      <td>English</td>\n",
       "      <td>Show</td>\n",
       "      <td>3</td>\n",
       "    </tr>\n",
       "    <tr>\n",
       "      <th>4</th>\n",
       "      <td>Queen Charlotte: A Bridgerton Story</td>\n",
       "      <td>Yes</td>\n",
       "      <td>2023-05-04</td>\n",
       "      <td>503000000</td>\n",
       "      <td>English</td>\n",
       "      <td>Movie</td>\n",
       "      <td>4</td>\n",
       "    </tr>\n",
       "  </tbody>\n",
       "</table>\n",
       "</div>"
      ],
      "text/plain": [
       "                                 Title Available Globally? Release Date  \\\n",
       "0            The Night Agent: Season 1                 Yes   2023-03-23   \n",
       "1            Ginny & Georgia: Season 2                 Yes   2023-01-05   \n",
       "2   The Glory: Season 1 // 더 글로리: 시즌 1                 Yes   2022-12-30   \n",
       "3                  Wednesday: Season 1                 Yes   2022-11-23   \n",
       "4  Queen Charlotte: A Bridgerton Story                 Yes   2023-05-04   \n",
       "\n",
       "   Hours Viewed Language Indicator Content Type  Content_ID  \n",
       "0     812100000            English         Show           0  \n",
       "1     665100000            English         Show           1  \n",
       "2     622800000             Korean         Show           2  \n",
       "3     507700000            English         Show           3  \n",
       "4     503000000            English        Movie           4  "
      ]
     },
     "execution_count": 76,
     "metadata": {},
     "output_type": "execute_result"
    }
   ],
   "source": [
    "data.head()"
   ]
  },
  {
   "cell_type": "code",
   "execution_count": 77,
   "id": "a706680e-f94d-480d-9965-f9f33be139b0",
   "metadata": {},
   "outputs": [],
   "source": [
    "Le = LabelEncoder()\n",
    "data['Language_ID'] = Le.fit_transform(data['Language Indicator'])\n",
    "data['type_ID'] = Le.fit_transform(data['Content Type'])"
   ]
  },
  {
   "cell_type": "code",
   "execution_count": 78,
   "id": "090c2cbb-a491-4ab3-91a8-9ee8e24f2130",
   "metadata": {},
   "outputs": [
    {
     "data": {
      "text/html": [
       "<div>\n",
       "<style scoped>\n",
       "    .dataframe tbody tr th:only-of-type {\n",
       "        vertical-align: middle;\n",
       "    }\n",
       "\n",
       "    .dataframe tbody tr th {\n",
       "        vertical-align: top;\n",
       "    }\n",
       "\n",
       "    .dataframe thead th {\n",
       "        text-align: right;\n",
       "    }\n",
       "</style>\n",
       "<table border=\"1\" class=\"dataframe\">\n",
       "  <thead>\n",
       "    <tr style=\"text-align: right;\">\n",
       "      <th></th>\n",
       "      <th>Title</th>\n",
       "      <th>Available Globally?</th>\n",
       "      <th>Release Date</th>\n",
       "      <th>Hours Viewed</th>\n",
       "      <th>Language Indicator</th>\n",
       "      <th>Content Type</th>\n",
       "      <th>Content_ID</th>\n",
       "      <th>Language_ID</th>\n",
       "      <th>type_ID</th>\n",
       "    </tr>\n",
       "  </thead>\n",
       "  <tbody>\n",
       "    <tr>\n",
       "      <th>0</th>\n",
       "      <td>The Night Agent: Season 1</td>\n",
       "      <td>Yes</td>\n",
       "      <td>2023-03-23</td>\n",
       "      <td>812100000</td>\n",
       "      <td>English</td>\n",
       "      <td>Show</td>\n",
       "      <td>0</td>\n",
       "      <td>0</td>\n",
       "      <td>1</td>\n",
       "    </tr>\n",
       "    <tr>\n",
       "      <th>1</th>\n",
       "      <td>Ginny &amp; Georgia: Season 2</td>\n",
       "      <td>Yes</td>\n",
       "      <td>2023-01-05</td>\n",
       "      <td>665100000</td>\n",
       "      <td>English</td>\n",
       "      <td>Show</td>\n",
       "      <td>1</td>\n",
       "      <td>0</td>\n",
       "      <td>1</td>\n",
       "    </tr>\n",
       "    <tr>\n",
       "      <th>2</th>\n",
       "      <td>The Glory: Season 1 // 더 글로리: 시즌 1</td>\n",
       "      <td>Yes</td>\n",
       "      <td>2022-12-30</td>\n",
       "      <td>622800000</td>\n",
       "      <td>Korean</td>\n",
       "      <td>Show</td>\n",
       "      <td>2</td>\n",
       "      <td>3</td>\n",
       "      <td>1</td>\n",
       "    </tr>\n",
       "    <tr>\n",
       "      <th>3</th>\n",
       "      <td>Wednesday: Season 1</td>\n",
       "      <td>Yes</td>\n",
       "      <td>2022-11-23</td>\n",
       "      <td>507700000</td>\n",
       "      <td>English</td>\n",
       "      <td>Show</td>\n",
       "      <td>3</td>\n",
       "      <td>0</td>\n",
       "      <td>1</td>\n",
       "    </tr>\n",
       "    <tr>\n",
       "      <th>4</th>\n",
       "      <td>Queen Charlotte: A Bridgerton Story</td>\n",
       "      <td>Yes</td>\n",
       "      <td>2023-05-04</td>\n",
       "      <td>503000000</td>\n",
       "      <td>English</td>\n",
       "      <td>Movie</td>\n",
       "      <td>4</td>\n",
       "      <td>0</td>\n",
       "      <td>0</td>\n",
       "    </tr>\n",
       "  </tbody>\n",
       "</table>\n",
       "</div>"
      ],
      "text/plain": [
       "                                 Title Available Globally? Release Date  \\\n",
       "0            The Night Agent: Season 1                 Yes   2023-03-23   \n",
       "1            Ginny & Georgia: Season 2                 Yes   2023-01-05   \n",
       "2   The Glory: Season 1 // 더 글로리: 시즌 1                 Yes   2022-12-30   \n",
       "3                  Wednesday: Season 1                 Yes   2022-11-23   \n",
       "4  Queen Charlotte: A Bridgerton Story                 Yes   2023-05-04   \n",
       "\n",
       "   Hours Viewed Language Indicator Content Type  Content_ID  Language_ID  \\\n",
       "0     812100000            English         Show           0            0   \n",
       "1     665100000            English         Show           1            0   \n",
       "2     622800000             Korean         Show           2            3   \n",
       "3     507700000            English         Show           3            0   \n",
       "4     503000000            English        Movie           4            0   \n",
       "\n",
       "   type_ID  \n",
       "0        1  \n",
       "1        1  \n",
       "2        1  \n",
       "3        1  \n",
       "4        0  "
      ]
     },
     "execution_count": 78,
     "metadata": {},
     "output_type": "execute_result"
    }
   ],
   "source": [
    "data.head()"
   ]
  },
  {
   "cell_type": "code",
   "execution_count": 79,
   "id": "ecd5ac16-971a-4dab-be40-4d6a21003ac9",
   "metadata": {},
   "outputs": [],
   "source": [
    "num_contents = data['Content_ID'].nunique()\n",
    "num_languages = data['Language_ID'].nunique()\n",
    "num_types = data['type_ID'].nunique()\n",
    "\n",
    "content_input = tf.keras.layers.Input(shape=(1,), dtype = tf.int32, name='content_id')\n",
    "language_input = tf.keras.layers.Input(shape=(1,), dtype = tf.int32, name='language_id')\n",
    "type_input = tf.keras.layers.Input(shape=(1,), dtype=tf.int32, name='type_input')\n",
    "\n",
    "content_emb = tf.keras.layers.Embedding(input_dim=num_contents+1, output_dim=32)(content_input)\n",
    "language_emb = tf.keras.layers.Embedding(input_dim=num_languages+1, output_dim=32)(language_input)\n",
    "type_emb = tf.keras.layers.Embedding(input_dim=num_types+1, output_dim=32)(type_input)\n",
    "\n",
    "content_vec = tf.keras.layers.Flatten()(content_emb)\n",
    "language_vec = tf.keras.layers.Flatten()(language_emb)\n",
    "type_vec = tf.keras.layers.Flatten()(type_emb)\n",
    "\n",
    "combined = tf.keras.layers.Concatenate()([content_vec, language_vec, type_vec])\n",
    "\n",
    "x = tf.keras.layers.Dense(64, activation='relu')(combined)\n",
    "x = tf.keras.layers.Dense(32, activation='relu')(x)\n",
    "output = tf.keras.layers.Dense(num_contents, activation='softmax')(x)\n",
    "\n",
    "model = Model(inputs=[content_input, language_input, type_input], outputs=[output])\n",
    "model.compile(optimizer='adam', loss='sparse_categorical_crossentropy', metrics=['accuracy'])"
   ]
  },
  {
   "cell_type": "code",
   "execution_count": 80,
   "id": "6ebed6b3-cbfd-412a-94f9-a16a5edbadf8",
   "metadata": {},
   "outputs": [
    {
     "name": "stdout",
     "output_type": "stream",
     "text": [
      "Epoch 1/5\n",
      "\u001b[1m300/300\u001b[0m \u001b[32m━━━━━━━━━━━━━━━━━━━━\u001b[0m\u001b[37m\u001b[0m \u001b[1m14s\u001b[0m 31ms/step - accuracy: 0.0000e+00 - loss: 9.8788\n",
      "Epoch 2/5\n",
      "\u001b[1m300/300\u001b[0m \u001b[32m━━━━━━━━━━━━━━━━━━━━\u001b[0m\u001b[37m\u001b[0m \u001b[1m9s\u001b[0m 31ms/step - accuracy: 0.0000e+00 - loss: 9.8643\n",
      "Epoch 3/5\n",
      "\u001b[1m300/300\u001b[0m \u001b[32m━━━━━━━━━━━━━━━━━━━━\u001b[0m\u001b[37m\u001b[0m \u001b[1m9s\u001b[0m 31ms/step - accuracy: 3.1204e-04 - loss: 9.5545\n",
      "Epoch 4/5\n",
      "\u001b[1m300/300\u001b[0m \u001b[32m━━━━━━━━━━━━━━━━━━━━\u001b[0m\u001b[37m\u001b[0m \u001b[1m9s\u001b[0m 29ms/step - accuracy: 3.2021e-04 - loss: 9.0601\n",
      "Epoch 5/5\n",
      "\u001b[1m300/300\u001b[0m \u001b[32m━━━━━━━━━━━━━━━━━━━━\u001b[0m\u001b[37m\u001b[0m \u001b[1m9s\u001b[0m 31ms/step - accuracy: 0.0024 - loss: 8.2722\n"
     ]
    }
   ],
   "source": [
    "history = model.fit(\n",
    "    x={\n",
    "        'content_id': data['Content_ID'],\n",
    "        'language_id': data['Language_ID'],\n",
    "        'type_input': data['type_ID']\n",
    "    },\n",
    "    y=data['Content_ID'],\n",
    "    epochs=5,\n",
    "    batch_size=64\n",
    ")"
   ]
  },
  {
   "cell_type": "code",
   "execution_count": 86,
   "id": "397f9025-37b7-4cd5-87c9-587beb87b396",
   "metadata": {},
   "outputs": [
    {
     "name": "stdout",
     "output_type": "stream",
     "text": [
      "\u001b[1m1/1\u001b[0m \u001b[32m━━━━━━━━━━━━━━━━━━━━\u001b[0m\u001b[37m\u001b[0m \u001b[1m0s\u001b[0m 96ms/step\n"
     ]
    },
    {
     "data": {
      "text/html": [
       "<div>\n",
       "<style scoped>\n",
       "    .dataframe tbody tr th:only-of-type {\n",
       "        vertical-align: middle;\n",
       "    }\n",
       "\n",
       "    .dataframe tbody tr th {\n",
       "        vertical-align: top;\n",
       "    }\n",
       "\n",
       "    .dataframe thead th {\n",
       "        text-align: right;\n",
       "    }\n",
       "</style>\n",
       "<table border=\"1\" class=\"dataframe\">\n",
       "  <thead>\n",
       "    <tr style=\"text-align: right;\">\n",
       "      <th></th>\n",
       "      <th>Title</th>\n",
       "      <th>Language Indicator</th>\n",
       "      <th>Content Type</th>\n",
       "      <th>Hours Viewed</th>\n",
       "    </tr>\n",
       "  </thead>\n",
       "  <tbody>\n",
       "    <tr>\n",
       "      <th>0</th>\n",
       "      <td>The Night Agent: Season 1</td>\n",
       "      <td>English</td>\n",
       "      <td>Show</td>\n",
       "      <td>812100000</td>\n",
       "    </tr>\n",
       "    <tr>\n",
       "      <th>1095</th>\n",
       "      <td>Jurassic World Camp Cretaceous: Season 2</td>\n",
       "      <td>English</td>\n",
       "      <td>Show</td>\n",
       "      <td>19600000</td>\n",
       "    </tr>\n",
       "    <tr>\n",
       "      <th>3670</th>\n",
       "      <td>13 Commandments: Season 1 // 13 Geboden: Seizo...</td>\n",
       "      <td>English</td>\n",
       "      <td>Show</td>\n",
       "      <td>4800000</td>\n",
       "    </tr>\n",
       "    <tr>\n",
       "      <th>6504</th>\n",
       "      <td>Chico Bon Bon: Monkey with a Tool Belt: Season 2</td>\n",
       "      <td>English</td>\n",
       "      <td>Show</td>\n",
       "      <td>1600000</td>\n",
       "    </tr>\n",
       "    <tr>\n",
       "      <th>9755</th>\n",
       "      <td>The Adventures of Tintin: Season 2 // Les aven...</td>\n",
       "      <td>English</td>\n",
       "      <td>Show</td>\n",
       "      <td>600000</td>\n",
       "    </tr>\n",
       "    <tr>\n",
       "      <th>13265</th>\n",
       "      <td>Jurassic World: Double Trouble: Season 1</td>\n",
       "      <td>English</td>\n",
       "      <td>Show</td>\n",
       "      <td>200000</td>\n",
       "    </tr>\n",
       "  </tbody>\n",
       "</table>\n",
       "</div>"
      ],
      "text/plain": [
       "                                                   Title Language Indicator  \\\n",
       "0                              The Night Agent: Season 1            English   \n",
       "1095            Jurassic World Camp Cretaceous: Season 2            English   \n",
       "3670   13 Commandments: Season 1 // 13 Geboden: Seizo...            English   \n",
       "6504    Chico Bon Bon: Monkey with a Tool Belt: Season 2            English   \n",
       "9755   The Adventures of Tintin: Season 2 // Les aven...            English   \n",
       "13265           Jurassic World: Double Trouble: Season 1            English   \n",
       "\n",
       "      Content Type  Hours Viewed  \n",
       "0             Show     812100000  \n",
       "1095          Show      19600000  \n",
       "3670          Show       4800000  \n",
       "6504          Show       1600000  \n",
       "9755          Show        600000  \n",
       "13265         Show        200000  "
      ]
     },
     "execution_count": 86,
     "metadata": {},
     "output_type": "execute_result"
    }
   ],
   "source": [
    "import numpy as np \n",
    "def recommend_similar(content_title, top_k=5):\n",
    "    content_row = data[data['Title'].str.contains(content_title, case=False, na=False)].iloc[0]\n",
    "    content_id = content_row['Content_ID']\n",
    "    language_id = content_row['Language_ID']\n",
    "    type_id = content_row['type_ID']\n",
    "\n",
    "    predictions = model.predict({\n",
    "        'content_id': np.array([content_id]),\n",
    "        'language_id': np.array([language_id]),\n",
    "        'type_input': np.array([type_id])\n",
    "    })\n",
    "\n",
    "\n",
    "    top_indices = predictions[0].argsort()[-top_k-1:][::-1]\n",
    "    recommendations = data[data['Content_ID'].isin(top_indices)]\n",
    "    return recommendations[['Title', 'Language Indicator', 'Content Type', 'Hours Viewed']]\n",
    "\n",
    "recommend_similar(\"The Night Agent: Season 1\")"
   ]
  },
  {
   "cell_type": "code",
   "execution_count": null,
   "id": "636f75be-5bcc-444c-84f3-c3aa90cbbe56",
   "metadata": {},
   "outputs": [],
   "source": []
  }
 ],
 "metadata": {
  "kernelspec": {
   "display_name": "Python 3 (ipykernel)",
   "language": "python",
   "name": "python3"
  },
  "language_info": {
   "codemirror_mode": {
    "name": "ipython",
    "version": 3
   },
   "file_extension": ".py",
   "mimetype": "text/x-python",
   "name": "python",
   "nbconvert_exporter": "python",
   "pygments_lexer": "ipython3",
   "version": "3.12.4"
  }
 },
 "nbformat": 4,
 "nbformat_minor": 5
}
